{
  "nbformat": 4,
  "nbformat_minor": 0,
  "metadata": {
    "colab": {
      "name": "gdmk__cross_val_distribution.ipynb",
      "provenance": [],
      "authorship_tag": "ABX9TyM8qkrpvONPT8v+EcCXOI/Q",
      "include_colab_link": true
    },
    "kernelspec": {
      "name": "python3",
      "display_name": "Python 3"
    },
    "language_info": {
      "name": "python"
    }
  },
  "cells": [
    {
      "cell_type": "markdown",
      "metadata": {
        "id": "view-in-github",
        "colab_type": "text"
      },
      "source": [
        "<a href=\"https://colab.research.google.com/github/jcmachicao/gdmk_tools_ml/blob/main/gdmk__cross_val_distribution.ipynb\" target=\"_parent\"><img src=\"https://colab.research.google.com/assets/colab-badge.svg\" alt=\"Open In Colab\"/></a>"
      ]
    },
    {
      "cell_type": "code",
      "source": [
        "import numpy as np"
      ],
      "metadata": {
        "id": "TZ7QwNrSgZHz"
      },
      "execution_count": 1,
      "outputs": []
    },
    {
      "cell_type": "code",
      "source": [
        "X_np = np.array([\n",
        "  [1, 1, 1, 1],\n",
        "  [2, 2, 2, 2],\n",
        "  [3, 3, 3, 3],\n",
        "  [4, 4, 4, 4],\n",
        "  [5, 5, 5, 5],\n",
        "\n",
        "  [6, 6, 6, 6],\n",
        "  [7, 7, 7, 7],\n",
        "  [8, 8, 8, 8],\n",
        "  [9, 9, 9, 9],\n",
        "  [0, 0, 0, 0],               \n",
        "])\n",
        "\n",
        "X_np"
      ],
      "metadata": {
        "colab": {
          "base_uri": "https://localhost:8080/"
        },
        "id": "FJAghJz7fmer",
        "outputId": "45576db3-1b22-489f-b1e2-4c942fcd06e7"
      },
      "execution_count": 2,
      "outputs": [
        {
          "output_type": "execute_result",
          "data": {
            "text/plain": [
              "array([[1, 1, 1, 1],\n",
              "       [2, 2, 2, 2],\n",
              "       [3, 3, 3, 3],\n",
              "       [4, 4, 4, 4],\n",
              "       [5, 5, 5, 5],\n",
              "       [6, 6, 6, 6],\n",
              "       [7, 7, 7, 7],\n",
              "       [8, 8, 8, 8],\n",
              "       [9, 9, 9, 9],\n",
              "       [0, 0, 0, 0]])"
            ]
          },
          "metadata": {},
          "execution_count": 2
        }
      ]
    },
    {
      "cell_type": "code",
      "source": [
        "y_np = np.array([11, 12, 13, 14, 15, 16, 17, 18, 19, 20])\n",
        "y_np"
      ],
      "metadata": {
        "colab": {
          "base_uri": "https://localhost:8080/"
        },
        "id": "drnqIhRngjwT",
        "outputId": "0934314e-d7aa-4414-e20f-c851d259c160"
      },
      "execution_count": 3,
      "outputs": [
        {
          "output_type": "execute_result",
          "data": {
            "text/plain": [
              "array([11, 12, 13, 14, 15, 16, 17, 18, 19, 20])"
            ]
          },
          "metadata": {},
          "execution_count": 3
        }
      ]
    },
    {
      "cell_type": "code",
      "source": [
        "n_obs = X_np.shape[0]\n",
        "n_obs"
      ],
      "metadata": {
        "colab": {
          "base_uri": "https://localhost:8080/"
        },
        "id": "ZjmbjttjhC8z",
        "outputId": "c77eb932-0891-40c1-c15a-60b9b0a59336"
      },
      "execution_count": 4,
      "outputs": [
        {
          "output_type": "execute_result",
          "data": {
            "text/plain": [
              "10"
            ]
          },
          "metadata": {},
          "execution_count": 4
        }
      ]
    },
    {
      "cell_type": "code",
      "source": [
        "partes = 5\n",
        "particion = int(n_obs/partes)\n",
        "particion"
      ],
      "metadata": {
        "colab": {
          "base_uri": "https://localhost:8080/"
        },
        "id": "DG-wOutsgyQq",
        "outputId": "3d661b82-47d6-44ac-9fbd-69010665284e"
      },
      "execution_count": 5,
      "outputs": [
        {
          "output_type": "execute_result",
          "data": {
            "text/plain": [
              "2"
            ]
          },
          "metadata": {},
          "execution_count": 5
        }
      ]
    },
    {
      "cell_type": "code",
      "execution_count": 6,
      "metadata": {
        "colab": {
          "base_uri": "https://localhost:8080/"
        },
        "id": "H6udSZhMfUqL",
        "outputId": "5f212289-4ae0-4a4f-cd4f-b32f1c887366"
      },
      "outputs": [
        {
          "output_type": "stream",
          "name": "stdout",
          "text": [
            "0 -8 0\n",
            "1 -6 2\n",
            "2 -4 4\n",
            "3 -2 6\n",
            "4 "
          ]
        }
      ],
      "source": [
        "parts = []\n",
        "\n",
        "for kp in range(0,partes):\n",
        "  print(kp, end=' ')\n",
        "  \n",
        "  if kp < 4:\n",
        "\n",
        "    print( (kp-4)*particion ,  (kp)*particion)\n",
        "    X_atr = np.concatenate( [ X_np[ (kp-4)*particion : , : ], X_np[ : (kp)*particion, : ] ], axis=0)\n",
        "    X_ats = X_np[ (kp)*particion : (kp+1)*particion, : ]\n",
        "    y_atr = np.concatenate( [ y_np[ (kp-4)*particion :], y_np[ : (kp)*particion] ], axis=0)\n",
        "    y_ats = y_np[ (kp)*particion : (kp+1)*particion ]\n",
        "\n",
        "  else:\n",
        "\n",
        "    X_atr = X_np[ 0 : (kp)*particion, : ]\n",
        "    X_ats = X_np[ (kp)*particion : (kp+1)*particion, : ]\n",
        "    y_atr = y_np[  0 : (kp)*particion ]\n",
        "    y_ats = y_np[ (kp)*particion : (kp+1)*particion ]\n",
        "\n",
        "  parts.append([X_atr, X_ats, y_atr, y_ats]) "
      ]
    },
    {
      "cell_type": "code",
      "source": [
        "for s in range(5):\n",
        "  for j in range(4):\n",
        "    print(parts[s][j])\n",
        "    print('')"
      ],
      "metadata": {
        "id": "-BgUg6H9hL2S",
        "colab": {
          "base_uri": "https://localhost:8080/"
        },
        "outputId": "bb2db622-eaa1-4bd1-ff2e-c2ec787fb988"
      },
      "execution_count": 8,
      "outputs": [
        {
          "output_type": "stream",
          "name": "stdout",
          "text": [
            "[[3 3 3 3]\n",
            " [4 4 4 4]\n",
            " [5 5 5 5]\n",
            " [6 6 6 6]\n",
            " [7 7 7 7]\n",
            " [8 8 8 8]\n",
            " [9 9 9 9]\n",
            " [0 0 0 0]]\n",
            "\n",
            "[[1 1 1 1]\n",
            " [2 2 2 2]]\n",
            "\n",
            "[13 14 15 16 17 18 19 20]\n",
            "\n",
            "[11 12]\n",
            "\n",
            "[[5 5 5 5]\n",
            " [6 6 6 6]\n",
            " [7 7 7 7]\n",
            " [8 8 8 8]\n",
            " [9 9 9 9]\n",
            " [0 0 0 0]\n",
            " [1 1 1 1]\n",
            " [2 2 2 2]]\n",
            "\n",
            "[[3 3 3 3]\n",
            " [4 4 4 4]]\n",
            "\n",
            "[15 16 17 18 19 20 11 12]\n",
            "\n",
            "[13 14]\n",
            "\n",
            "[[7 7 7 7]\n",
            " [8 8 8 8]\n",
            " [9 9 9 9]\n",
            " [0 0 0 0]\n",
            " [1 1 1 1]\n",
            " [2 2 2 2]\n",
            " [3 3 3 3]\n",
            " [4 4 4 4]]\n",
            "\n",
            "[[5 5 5 5]\n",
            " [6 6 6 6]]\n",
            "\n",
            "[17 18 19 20 11 12 13 14]\n",
            "\n",
            "[15 16]\n",
            "\n",
            "[[9 9 9 9]\n",
            " [0 0 0 0]\n",
            " [1 1 1 1]\n",
            " [2 2 2 2]\n",
            " [3 3 3 3]\n",
            " [4 4 4 4]\n",
            " [5 5 5 5]\n",
            " [6 6 6 6]]\n",
            "\n",
            "[[7 7 7 7]\n",
            " [8 8 8 8]]\n",
            "\n",
            "[19 20 11 12 13 14 15 16]\n",
            "\n",
            "[17 18]\n",
            "\n",
            "[[1 1 1 1]\n",
            " [2 2 2 2]\n",
            " [3 3 3 3]\n",
            " [4 4 4 4]\n",
            " [5 5 5 5]\n",
            " [6 6 6 6]\n",
            " [7 7 7 7]\n",
            " [8 8 8 8]]\n",
            "\n",
            "[[9 9 9 9]\n",
            " [0 0 0 0]]\n",
            "\n",
            "[11 12 13 14 15 16 17 18]\n",
            "\n",
            "[19 20]\n",
            "\n"
          ]
        }
      ]
    }
  ]
}